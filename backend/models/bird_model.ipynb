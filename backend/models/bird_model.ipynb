{
 "cells": [
  {
   "cell_type": "code",
   "execution_count": null,
   "metadata": {},
   "outputs": [],
   "source": [
    "import pandas as pd\n",
    "import pickle\n",
    "from sklearn.feature_extraction.text import TfidfVectorizer\n",
    "from sklearn.metrics.pairwise import cosine_similarity\n",
    "from sklearn.decomposition import TruncatedSVD"
   ]
  },
  {
   "cell_type": "code",
   "execution_count": null,
   "metadata": {},
   "outputs": [],
   "source": [
    "def preprocess_data(df):\n",
    "    # Fill NaN values with empty string to avoid issues with TF-IDF\n",
    "    df = df.fillna(\"\")\n",
    "    return df"
   ]
  },
  {
   "cell_type": "code",
   "execution_count": null,
   "metadata": {},
   "outputs": [],
   "source": [
    "# Load bird dataset\n",
    "bird_df = pd.read_csv(\"birds.csv\")\n",
    "bird_df = preprocess_data(bird_df)\n",
    "\n",
    "bird_df.head()"
   ]
  },
  {
   "cell_type": "code",
   "execution_count": null,
   "metadata": {},
   "outputs": [],
   "source": [
    "# combine relevant features\n",
    "bird_df[\"combined_features\"]=bird_df[\"city\"]+\" \"+bird_df[\"forest\"]+\" \"+bird_df[\"Season\"]+\" \"+bird_df[\"active\"]\n",
    "\n",
    "vectorizer=TfidfVectorizer()\n",
    "tfidf_matrix=vectorizer.fit_transform(bird_df[\"combined_features\"].values.astype(\"U\"))"
   ]
  },
  {
   "cell_type": "code",
   "execution_count": null,
   "metadata": {},
   "outputs": [],
   "source": [
    "# Save model and vectorizer to pickle file\n",
    "\n",
    "with open(\"birds_model.pkl\", \"wb\") as model_file:\n",
    "    pickle.dump((bird_df, vectorizer, tfidf_matrix), model_file)"
   ]
  },
  {
   "cell_type": "code",
   "execution_count": null,
   "metadata": {},
   "outputs": [],
   "source": [
    "def get_top_birds(location, season, visit_time, top_n=5):\n",
    "    # Load model from pickle file\n",
    "    with open(\"birds_model.pkl\", \"rb\") as model_file:\n",
    "        wildlife_df, vectorizer, tfidf_matrix = pickle.load(model_file)\n",
    "\n",
    "    # User query formatted similarly\n",
    "    user_query = location + \" \" + season + \" \" + visit_time\n",
    "    user_tfidf = vectorizer.transform([user_query])\n",
    "\n",
    "    # Compute cosine similarity\n",
    "    similarity_scores = cosine_similarity(user_tfidf, tfidf_matrix).flatten()\n",
    "\n",
    "    # Get indices of top N matches\n",
    "    top_indices = similarity_scores.argsort()[-top_n:][::-1]\n",
    "\n",
    "    # Get the top matching animals along with relevant details\n",
    "   # Get the top matching birds along with relevant details\n",
    "    result_df = bird_df.iloc[top_indices][[\n",
    "    \"name\",\"Scientific Name\", \"Season\", \"active\", \"forest\", \"city\", \"Region\",\n",
    "    \"Unique Fact\", \"Endemic Status\", \"Conservation Status\"\n",
    "    ]]\n",
    "\n",
    "    # Compute accuracy as the average similarity score of the top matches\n",
    "    accuracy = similarity_scores[top_indices].mean() * 100  # Convert to percentage\n",
    "\n",
    "    # Convert to HTML table format with custom styling\n",
    "    table_html = result_df.to_html(index=False, escape=False, classes=\"styled-table\")\n",
    "\n",
    "    # Append accuracy information\n",
    "    table_html += f\"<p><strong>Accuracy of top {top_n} matches: {accuracy:.2f}%</strong></p>\"\n",
    "\n",
    "    return table_html\n"
   ]
  },
  {
   "cell_type": "code",
   "execution_count": null,
   "metadata": {},
   "outputs": [],
   "source": [
    "# Prompt user for input\n",
    "user_location = input(\"Enter the city/state you are visiting : \")\n",
    "user_season = input(\"Enter the season of your visit (summer,winter,mansoon) : \")\n",
    "user_visit_time = input(\"Enter the time of day you are visiting (morning, afternoon, night) : \")"
   ]
  },
  {
   "cell_type": "code",
   "execution_count": null,
   "metadata": {},
   "outputs": [],
   "source": [
    "# Get recommendations\n",
    "top_animals_html = get_top_birds(user_location, user_season, user_visit_time)"
   ]
  },
  {
   "cell_type": "code",
   "execution_count": null,
   "metadata": {},
   "outputs": [],
   "source": [
    "# Print HTML with custom styles\n",
    "html_style = \"\"\"\n",
    "<style>\n",
    ".styled-table {\n",
    "    width: 100%;\n",
    "    border-collapse: collapse;\n",
    "    font-family: Arial, sans-serif;\n",
    "}\n",
    ".styled-table th {\n",
    "    background-color: #4CAF50;\n",
    "    color: white;\n",
    "    padding: 10px;\n",
    "    text-align: left;\n",
    "    font-size: 16px;\n",
    "}\n",
    ".styled-table td {\n",
    "    padding: 8px;\n",
    "    border-bottom: 1px solid #ddd;\n",
    "}\n",
    ".styled-table tr:nth-child(even) {\n",
    "    background-color: #f2f2f2;\n",
    "}\n",
    ".styled-table tr:nth-child(odd) {\n",
    "    background-color: #ffffff;\n",
    "}\n",
    "</style>\n",
    "\"\"\"\n",
    "print(html_style + top_animals_html)"
   ]
  }
 ],
 "metadata": {
  "language_info": {
   "name": "python"
  }
 },
 "nbformat": 4,
 "nbformat_minor": 2
}
