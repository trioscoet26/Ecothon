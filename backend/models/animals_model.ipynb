{
 "cells": [
  {
   "cell_type": "code",
   "execution_count": 52,
   "id": "9ed5d5fc-05f6-4d9c-9fba-fe0063599ea6",
   "metadata": {},
   "outputs": [],
   "source": [
    "import pandas as pd\n",
    "import pickle\n",
    "from sklearn.feature_extraction.text import TfidfVectorizer\n",
    "from sklearn.metrics.pairwise import cosine_similarity"
   ]
  },
  {
   "cell_type": "code",
   "execution_count": 53,
   "id": "853f4806-f823-4ef6-875f-c7591e17d716",
   "metadata": {},
   "outputs": [],
   "source": [
    "def preprocess_data(df):\n",
    "    # Fill NaN values with empty string to avoid issues with TF-IDF\n",
    "    df = df.fillna(\"\")\n",
    "    return df"
   ]
  },
  {
   "cell_type": "code",
   "execution_count": 55,
   "id": "43d8db3a-81fb-480f-9eee-152e07265d58",
   "metadata": {},
   "outputs": [],
   "source": [
    "# Load dataset (assuming you have a dataset `wildlife_df` in pandas DataFrame format)\n",
    "wildlife_df = pd.read_csv(\"animals.csv\")\n",
    "wildlife_df = preprocess_data(wildlife_df)"
   ]
  },
  {
   "cell_type": "code",
   "execution_count": 56,
   "id": "55a84cd8-4cc1-48e9-b1af-6e8d7bd64078",
   "metadata": {},
   "outputs": [],
   "source": [
    "# Combine relevant features into a single text column for similarity comparison\n",
    "wildlife_df[\"combined_features\"] = wildlife_df[\"Cities Found\"] + \" \" + wildlife_df[\"Forest Type\"] + \" \" + wildlife_df[\"Season Active\"] + \" \" + wildlife_df[\"Day Timing Active\"]\n",
    "\n",
    "# Train TF-IDF Vectorizer\n",
    "vectorizer = TfidfVectorizer()\n",
    "tfidf_matrix = vectorizer.fit_transform(wildlife_df[\"combined_features\"].values.astype('U'))"
   ]
  },
  {
   "cell_type": "code",
   "execution_count": 57,
   "id": "3056b016-45b3-420b-a27b-49f34c78ae83",
   "metadata": {},
   "outputs": [],
   "source": [
    "# Save model and vectorizer to pickle file\n",
    "with open(\"wildlife_model.pkl\", \"wb\") as model_file:\n",
    "    pickle.dump((wildlife_df, vectorizer, tfidf_matrix), model_file)"
   ]
  },
  {
   "cell_type": "code",
   "execution_count": 58,
   "id": "9ef85e09-a2e6-48ae-9ffa-28a6abcaeed3",
   "metadata": {},
   "outputs": [],
   "source": [
    "def get_top_animals(location, season, visit_time, top_n=5):\n",
    "    # Load model from pickle file\n",
    "    with open(\"wildlife_model.pkl\", \"rb\") as model_file:\n",
    "        wildlife_df, vectorizer, tfidf_matrix = pickle.load(model_file)\n",
    "    \n",
    "    # User query formatted similarly\n",
    "    user_query = location + \" \" + season + \" \" + visit_time\n",
    "    user_tfidf = vectorizer.transform([user_query])\n",
    "    \n",
    "    # Compute cosine similarity\n",
    "    similarity_scores = cosine_similarity(user_tfidf, tfidf_matrix).flatten()\n",
    "    \n",
    "    # Get indices of top N matches\n",
    "    top_indices = similarity_scores.argsort()[-top_n:][::-1]\n",
    "    \n",
    "    # Get the top matching animals along with relevant details\n",
    "    result_df = wildlife_df.iloc[top_indices][[\"Animal Name\", \"Forest Type\", \"Season Active\", \"Day Timing Active\", \"Famous Forest for It\", \"Food\", \"Preferred Shelter Type\", \"Unique Fact\"]]\n",
    "    \n",
    "    # Compute accuracy as the average similarity score of the top matches\n",
    "    accuracy = similarity_scores[top_indices].mean() * 100  # Convert to percentage\n",
    "    \n",
    "    # Convert to HTML table format with custom styling\n",
    "    table_html = result_df.to_html(index=False, escape=False, classes=\"styled-table\")\n",
    "    \n",
    "    # Append accuracy information\n",
    "    table_html += f\"<p><strong>Accuracy of top {top_n} matches: {accuracy:.2f}%</strong></p>\"\n",
    "    \n",
    "    return table_html\n"
   ]
  },
  {
   "cell_type": "code",
   "execution_count": 59,
   "id": "e6d8ad42-b0ed-4531-955b-1cef7320a8c5",
   "metadata": {},
   "outputs": [
    {
     "name": "stdin",
     "output_type": "stream",
     "text": [
      "Enter the city/state you are visiting:  shimla\n",
      "Enter the season of your visit:  summer\n",
      "Enter the time of day you are visiting (e.g., Crepuscular, Nocturnal, Diurnal):  abc\n"
     ]
    }
   ],
   "source": [
    "# Prompt user for input\n",
    "user_location = input(\"Enter the city/state you are visiting: \")\n",
    "user_season = input(\"Enter the season of your visit: \")\n",
    "user_visit_time = input(\"Enter the time of day you are visiting (e.g., Crepuscular, Nocturnal, Diurnal): \")"
   ]
  },
  {
   "cell_type": "code",
   "execution_count": 60,
   "id": "d10a02c1-49c3-4908-b33e-58a37dd02ed9",
   "metadata": {},
   "outputs": [],
   "source": [
    "# Get recommendations\n",
    "top_animals_html = get_top_animals(user_location, user_season, user_visit_time)"
   ]
  },
  {
   "cell_type": "code",
   "execution_count": 50,
   "id": "986bac30-a987-432f-9c46-4f5fed7e5d71",
   "metadata": {},
   "outputs": [],
   "source": [
    "# get the recommendation \n",
    "top_animals_html = get_top_animals(df, user_location, user_season, user_visit_time)"
   ]
  },
  {
   "cell_type": "code",
   "execution_count": 61,
   "id": "f26221e4-4b2f-4a7f-83c3-b5206ea9a020",
   "metadata": {},
   "outputs": [
    {
     "name": "stdout",
     "output_type": "stream",
     "text": [
      "\n",
      "<style>\n",
      ".styled-table {\n",
      "    width: 100%;\n",
      "    border-collapse: collapse;\n",
      "    font-family: Arial, sans-serif;\n",
      "}\n",
      ".styled-table th {\n",
      "    background-color: #4CAF50;\n",
      "    color: white;\n",
      "    padding: 10px;\n",
      "    text-align: left;\n",
      "    font-size: 16px;\n",
      "}\n",
      ".styled-table td {\n",
      "    padding: 8px;\n",
      "    border-bottom: 1px solid #ddd;\n",
      "}\n",
      ".styled-table tr:nth-child(even) {\n",
      "    background-color: #f2f2f2;\n",
      "}\n",
      ".styled-table tr:nth-child(odd) {\n",
      "    background-color: #ffffff;\n",
      "}\n",
      "</style>\n",
      "<table border=\"1\" class=\"dataframe styled-table\">\n",
      "  <thead>\n",
      "    <tr style=\"text-align: right;\">\n",
      "      <th>Animal Name</th>\n",
      "      <th>Forest Type</th>\n",
      "      <th>Season Active</th>\n",
      "      <th>Day Timing Active</th>\n",
      "      <th>Famous Forest for It</th>\n",
      "      <th>Food</th>\n",
      "      <th>Preferred Shelter Type</th>\n",
      "      <th>Unique Fact</th>\n",
      "    </tr>\n",
      "  </thead>\n",
      "  <tbody>\n",
      "    <tr>\n",
      "      <td>One-Horned Rhinoceros</td>\n",
      "      <td>Mangrove</td>\n",
      "      <td>Summer</td>\n",
      "      <td>Crepuscular</td>\n",
      "      <td>Sundarbans</td>\n",
      "      <td>Herbivore</td>\n",
      "      <td>Burrows</td>\n",
      "      <td>Can communicate using low-frequency rumbles.</td>\n",
      "    </tr>\n",
      "    <tr>\n",
      "      <td>Sloth Bear</td>\n",
      "      <td>Mangrove</td>\n",
      "      <td>Summer</td>\n",
      "      <td>Crepuscular</td>\n",
      "      <td>Nagarhole National Park</td>\n",
      "      <td>Carnivore</td>\n",
      "      <td>Grasslands</td>\n",
      "      <td>Can leap over 20 feet in a single bound.</td>\n",
      "    </tr>\n",
      "    <tr>\n",
      "      <td>Indian Elephant</td>\n",
      "      <td>Mangrove</td>\n",
      "      <td>Summer</td>\n",
      "      <td>Crepuscular</td>\n",
      "      <td>Gir Forest</td>\n",
      "      <td>Herbivore</td>\n",
      "      <td>Water Bodies</td>\n",
      "      <td>The longest venomous snake in the world.</td>\n",
      "    </tr>\n",
      "    <tr>\n",
      "      <td>Indian Cobra</td>\n",
      "      <td>Mangrove</td>\n",
      "      <td>Summer</td>\n",
      "      <td>Crepuscular</td>\n",
      "      <td>Nagarhole National Park</td>\n",
      "      <td>Omnivore</td>\n",
      "      <td>Water Bodies</td>\n",
      "      <td>The only lion species found outside Africa.</td>\n",
      "    </tr>\n",
      "    <tr>\n",
      "      <td>Asiatic Lion</td>\n",
      "      <td>Mangrove</td>\n",
      "      <td>Summer</td>\n",
      "      <td>Crepuscular</td>\n",
      "      <td>Gir Forest</td>\n",
      "      <td>Insectivore</td>\n",
      "      <td>Grasslands</td>\n",
      "      <td>Can leap over 20 feet in a single bound.</td>\n",
      "    </tr>\n",
      "  </tbody>\n",
      "</table><p><strong>Accuracy of top 5 matches: 79.45%</strong></p>\n"
     ]
    }
   ],
   "source": [
    "# Print HTML with custom styles\n",
    "html_style = \"\"\"\n",
    "<style>\n",
    ".styled-table {\n",
    "    width: 100%;\n",
    "    border-collapse: collapse;\n",
    "    font-family: Arial, sans-serif;\n",
    "}\n",
    ".styled-table th {\n",
    "    background-color: #4CAF50;\n",
    "    color: white;\n",
    "    padding: 10px;\n",
    "    text-align: left;\n",
    "    font-size: 16px;\n",
    "}\n",
    ".styled-table td {\n",
    "    padding: 8px;\n",
    "    border-bottom: 1px solid #ddd;\n",
    "}\n",
    ".styled-table tr:nth-child(even) {\n",
    "    background-color: #f2f2f2;\n",
    "}\n",
    ".styled-table tr:nth-child(odd) {\n",
    "    background-color: #ffffff;\n",
    "}\n",
    "</style>\n",
    "\"\"\"\n",
    "print(html_style + top_animals_html)"
   ]
  },
  {
   "cell_type": "code",
   "execution_count": null,
   "id": "8b20287b-8cf0-45fa-b44a-5cd800fda3f0",
   "metadata": {},
   "outputs": [],
   "source": []
  }
 ],
 "metadata": {
  "kernelspec": {
   "display_name": "Python 3 (ipykernel)",
   "language": "python",
   "name": "python3"
  },
  "language_info": {
   "codemirror_mode": {
    "name": "ipython",
    "version": 3
   },
   "file_extension": ".py",
   "mimetype": "text/x-python",
   "name": "python",
   "nbconvert_exporter": "python",
   "pygments_lexer": "ipython3",
   "version": "3.12.1"
  }
 },
 "nbformat": 4,
 "nbformat_minor": 5
}
