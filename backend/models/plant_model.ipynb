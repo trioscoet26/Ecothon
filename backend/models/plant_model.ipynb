{
 "cells": [
  {
   "cell_type": "code",
   "execution_count": null,
   "metadata": {},
   "outputs": [],
   "source": [
    "import pandas as pd\n",
    "import numpy as np\n",
    "import pickle\n",
    "from sklearn.metrics.pairwise import cosine_similarity\n",
    "from sklearn.feature_extraction.text import TfidfVectorizer"
   ]
  },
  {
   "cell_type": "code",
   "execution_count": null,
   "metadata": {},
   "outputs": [],
   "source": [
    "def preprocess_data(df):\n",
    "    # Fill NaN values with empty string to avoid issues with TF-IDF\n",
    "    df = df.fillna(\"\")\n",
    "    return df"
   ]
  },
  {
   "cell_type": "code",
   "execution_count": null,
   "metadata": {},
   "outputs": [],
   "source": [
    "# Load dataset (assuming you have a dataset `wildlife_df` in pandas DataFrame format)\n",
    "wildlife_df = pd.read_csv('plants.csv')\n",
    "wildlife_df = preprocess_data(wildlife_df)\n",
    "wildlife_df.head()"
   ]
  },
  {
   "cell_type": "code",
   "execution_count": null,
   "metadata": {},
   "outputs": [],
   "source": [
    "# Combine relevant features into a single text column for similarity comparison\n",
    "wildlife_df[\"combined_features\"] = wildlife_df[\"city\"] + \" \" + wildlife_df[\"forest\"] + \" \" + wildlife_df[\"Season\"] + \" \" + wildlife_df[\"active\"]\n",
    "\n",
    "# Train TF-IDF Vectorizer\n",
    "vectorizer = TfidfVectorizer()\n",
    "tfidf_matrix = vectorizer.fit_transform(wildlife_df[\"combined_features\"].values.astype('U'))"
   ]
  },
  {
   "cell_type": "code",
   "execution_count": null,
   "metadata": {},
   "outputs": [],
   "source": [
    "# Save model and vectorizer to pickle file\n",
    "\n",
    "with open(\"plant_model.pkl\", \"wb\") as model_file:\n",
    "    pickle.dump((wildlife_df, vectorizer, tfidf_matrix), model_file)"
   ]
  },
  {
   "cell_type": "code",
   "execution_count": null,
   "metadata": {},
   "outputs": [],
   "source": [
    "def get_top_plants(location, season, visit_time, top_n=5):\n",
    "    # Load model from pickle file\n",
    "    with open(\"plant_model.pkl\", \"rb\") as model_file:\n",
    "        wildlife_df, vectorizer, tfidf_matrix = pickle.load(model_file)\n",
    "\n",
    "    # User query formatted similarly\n",
    "    user_query = location + \" \" + season + \" \" + visit_time\n",
    "    user_tfidf = vectorizer.transform([user_query])\n",
    "\n",
    "    # Compute cosine similarity\n",
    "    similarity_scores = cosine_similarity(user_tfidf, tfidf_matrix).flatten()\n",
    "\n",
    "    # Get indices of top N matches\n",
    "    top_indices = similarity_scores.argsort()[-top_n:][::-1]\n",
    "\n",
    "    # Get the top matching animals along with relevant details\n",
    "    result_df = wildlife_df.iloc[top_indices][[\"name\", \"city\",\"forest\", \"Season\", \"active\", \"Region\", \"Unique Fact\",\"Endemic Status\",\"Conservation Status\"]]\n",
    "\n",
    "    # Compute accuracy as the average similarity score of the top matches\n",
    "    accuracy = similarity_scores[top_indices].mean() * 100  # Convert to percentage\n",
    "\n",
    "    # Convert to HTML table format with custom styling\n",
    "    table_html = result_df.to_html(index=False, escape=False, classes=\"styled-table\")\n",
    "\n",
    "    # Append accuracy information\n",
    "    table_html += f\"<p><strong>Accuracy of top {top_n} matches: {accuracy:.2f}%</strong></p>\"\n",
    "\n",
    "    return table_html\n"
   ]
  },
  {
   "cell_type": "code",
   "execution_count": null,
   "metadata": {},
   "outputs": [],
   "source": [
    "# Prompt user for input\n",
    "user_location = input(\"Enter the city/state you are visiting : \")\n",
    "user_season = input(\"Enter the season of your visit (summer,winter,mansoon) : \")\n",
    "user_visit_time = input(\"Enter the time of day you are visiting (morning, afternoon, night) : \")"
   ]
  },
  {
   "cell_type": "code",
   "execution_count": null,
   "metadata": {},
   "outputs": [],
   "source": [
    "# Get recommendations\n",
    "top_plants_html = get_top_plants(user_location, user_season, user_visit_time)"
   ]
  },
  {
   "cell_type": "code",
   "execution_count": null,
   "metadata": {},
   "outputs": [],
   "source": [
    "# Print HTML with custom styles\n",
    "html_style = \"\"\"\n",
    "<style>\n",
    ".styled-table {\n",
    "    width: 100%;\n",
    "    border-collapse: collapse;\n",
    "    font-family: Arial, sans-serif;\n",
    "}\n",
    ".styled-table th {\n",
    "    background-color: #4CAF50;\n",
    "    color: white;\n",
    "    padding: 10px;\n",
    "    text-align: left;\n",
    "    font-size: 16px;\n",
    "}\n",
    ".styled-table td {\n",
    "    padding: 8px;\n",
    "    border-bottom: 1px solid #ddd;\n",
    "}\n",
    ".styled-table tr:nth-child(even) {\n",
    "    background-color: #f2f2f2;\n",
    "}\n",
    ".styled-table tr:nth-child(odd) {\n",
    "    background-color: #ffffff;\n",
    "}\n",
    "</style>\n",
    "\"\"\"\n",
    "print(html_style + top_plants_html)"
   ]
  }
 ],
 "metadata": {
  "kernelspec": {
   "display_name": "Python 3",
   "language": "python",
   "name": "python3"
  },
  "language_info": {
   "codemirror_mode": {
    "name": "ipython",
    "version": 3
   },
   "file_extension": ".py",
   "mimetype": "text/x-python",
   "name": "python",
   "nbconvert_exporter": "python",
   "pygments_lexer": "ipython3",
   "version": "3.13.2"
  }
 },
 "nbformat": 4,
 "nbformat_minor": 2
}
